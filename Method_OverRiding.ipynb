{
 "cells": [
  {
   "cell_type": "code",
   "execution_count": 23,
   "metadata": {
    "collapsed": true,
    "pycharm": {
     "name": "#%%\n"
    }
   },
   "outputs": [],
   "source": [
    "class Vegitables:\n",
    "    def __init__(self, name, price, weight):\n",
    "        self.name = name\n",
    "        self.price = price\n",
    "        self.weight = weight\n",
    "\n",
    "    def show(self):\n",
    "        print(f'This is {self.name}, weight is {self.weight} and price is {self.price}')\n",
    "\n",
    "class Location(Vegitables):\n",
    "    def __init__(self, name, price, weight, location):\n",
    "        super().__init__(name, price, weight)\n",
    "        self.location = location\n",
    "\n",
    "    def show(self):\n",
    "        print(f'This is {self.name}, weight is {self.weight} and price is {self.price} and purchased from {self.location}')\n",
    "        super(Location, self).show() # 1 way more elegant method\n",
    "        # Vegitables.show(self)        # 2 way"
   ]
  },
  {
   "cell_type": "code",
   "execution_count": 24,
   "outputs": [
    {
     "name": "stdout",
     "output_type": "stream",
     "text": [
      "This is Brockli, weight is 1kg and price is 139 and purchased from China\n",
      "This is Brockli, weight is 1kg and price is 139\n"
     ]
    }
   ],
   "source": [
    "L = Location('Brockli', 139, \"1kg\", \"China\")\n",
    "L.show()"
   ],
   "metadata": {
    "collapsed": false,
    "pycharm": {
     "name": "#%%\n"
    }
   }
  },
  {
   "cell_type": "markdown",
   "source": [
    "##### you can see the output that is first child class print it. But, then parent class override it."
   ],
   "metadata": {
    "collapsed": false,
    "pycharm": {
     "name": "#%% md\n"
    }
   }
  }
 ],
 "metadata": {
  "kernelspec": {
   "display_name": "Python 3",
   "language": "python",
   "name": "python3"
  },
  "language_info": {
   "codemirror_mode": {
    "name": "ipython",
    "version": 2
   },
   "file_extension": ".py",
   "mimetype": "text/x-python",
   "name": "python",
   "nbconvert_exporter": "python",
   "pygments_lexer": "ipython2",
   "version": "2.7.6"
  }
 },
 "nbformat": 4,
 "nbformat_minor": 0
}