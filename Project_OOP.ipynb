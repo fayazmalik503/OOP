{
 "cells": [
  {
   "cell_type": "markdown",
   "source": [
    "### A good example is person hierarchy, an organization in which, there are managers and employees. Now managers will have different access than employees, however they have same managers and employees have same properties, they have id, they have name, their birth-date and many more. So, in next we will do this project in which we I will implement this"
   ],
   "metadata": {
    "collapsed": false,
    "pycharm": {
     "name": "#%% md\n"
    }
   }
  }
 ],
 "metadata": {
  "kernelspec": {
   "display_name": "Python 3",
   "language": "python",
   "name": "python3"
  },
  "language_info": {
   "codemirror_mode": {
    "name": "ipython",
    "version": 2
   },
   "file_extension": ".py",
   "mimetype": "text/x-python",
   "name": "python",
   "nbconvert_exporter": "python",
   "pygments_lexer": "ipython2",
   "version": "2.7.6"
  }
 },
 "nbformat": 4,
 "nbformat_minor": 0
}