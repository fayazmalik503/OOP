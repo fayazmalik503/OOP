{
 "cells": [
  {
   "cell_type": "markdown",
   "source": [
    "###### In python everything is Object.\n",
    "##### Object-Oriented programming in python"
   ],
   "metadata": {
    "collapsed": false,
    "pycharm": {
     "name": "#%% md\n"
    }
   }
  },
  {
   "cell_type": "code",
   "execution_count": 31,
   "metadata": {
    "collapsed": true,
    "pycharm": {
     "name": "#%%\n"
    }
   },
   "outputs": [
    {
     "name": "stdout",
     "output_type": "stream",
     "text": [
      "<class 'int'>\n"
     ]
    }
   ],
   "source": [
    "x = 1\n",
    "print(type(x))"
   ]
  },
  {
   "cell_type": "code",
   "execution_count": 32,
   "outputs": [
    {
     "name": "stdout",
     "output_type": "stream",
     "text": [
      "<class 'str'>\n"
     ]
    }
   ],
   "source": [
    "x = \"Malik\"\n",
    "print(type(x))"
   ],
   "metadata": {
    "collapsed": false,
    "pycharm": {
     "name": "#%%\n"
    }
   }
  },
  {
   "cell_type": "code",
   "execution_count": 33,
   "outputs": [
    {
     "data": {
      "text/plain": "function"
     },
     "execution_count": 33,
     "metadata": {},
     "output_type": "execute_result"
    }
   ],
   "source": [
    "# let's print this in multiple ways\n",
    "def hello():\n",
    "    print(\"hello\")\n",
    "type(hello)"
   ],
   "metadata": {
    "collapsed": false,
    "pycharm": {
     "name": "#%%\n"
    }
   }
  },
  {
   "cell_type": "code",
   "execution_count": 34,
   "outputs": [
    {
     "name": "stdout",
     "output_type": "stream",
     "text": [
      "<class 'function'>\n"
     ]
    }
   ],
   "source": [
    "print(type(hello)) # this will print the type of function"
   ],
   "metadata": {
    "collapsed": false,
    "pycharm": {
     "name": "#%%\n"
    }
   }
  },
  {
   "cell_type": "code",
   "execution_count": 35,
   "outputs": [
    {
     "name": "stdout",
     "output_type": "stream",
     "text": [
      "hello\n",
      "<class 'NoneType'>\n"
     ]
    }
   ],
   "source": [
    "print(type(hello())) # this will print the inside the function, because we have call the function"
   ],
   "metadata": {
    "collapsed": false,
    "pycharm": {
     "name": "#%%\n"
    }
   }
  },
  {
   "cell_type": "markdown",
   "source": [
    "###### what so ever you are creating in python is an object is an instance of specific class and it's class will define how that will work with other functions in programming"
   ],
   "metadata": {
    "collapsed": false,
    "pycharm": {
     "name": "#%% md\n"
    }
   }
  },
  {
   "cell_type": "code",
   "execution_count": 36,
   "outputs": [
    {
     "ename": "TypeError",
     "evalue": "unsupported operand type(s) for +: 'int' and 'str'",
     "output_type": "error",
     "traceback": [
      "\u001B[1;31m---------------------------------------------------------------------------\u001B[0m",
      "\u001B[1;31mTypeError\u001B[0m                                 Traceback (most recent call last)",
      "Input \u001B[1;32mIn [36]\u001B[0m, in \u001B[0;36m<cell line: 5>\u001B[1;34m()\u001B[0m\n\u001B[0;32m      2\u001B[0m x \u001B[38;5;241m=\u001B[39m  \u001B[38;5;241m1\u001B[39m\n\u001B[0;32m      3\u001B[0m y \u001B[38;5;241m=\u001B[39m \u001B[38;5;124m\"\u001B[39m\u001B[38;5;124mhello\u001B[39m\u001B[38;5;124m\"\u001B[39m\n\u001B[1;32m----> 5\u001B[0m \u001B[38;5;28mprint\u001B[39m(\u001B[43mx\u001B[49m\u001B[43m \u001B[49m\u001B[38;5;241;43m+\u001B[39;49m\u001B[43m \u001B[49m\u001B[43my\u001B[49m)\n",
      "\u001B[1;31mTypeError\u001B[0m: unsupported operand type(s) for +: 'int' and 'str'"
     ]
    }
   ],
   "source": [
    "# so let's see why we need to understand the behavior of these objects.\n",
    "x =  1\n",
    "y = \"hello\"\n",
    "\n",
    "print(x + y)"
   ],
   "metadata": {
    "collapsed": false,
    "pycharm": {
     "name": "#%%\n"
    }
   }
  },
  {
   "cell_type": "markdown",
   "source": [
    "- so from above you can see our object is an int second object is string we can not add them. Because of our program does not know how to work with them and it is not defined in them.\n",
    "- so it is important  for us to know for the operations we can perform."
   ],
   "metadata": {
    "collapsed": false,
    "pycharm": {
     "name": "#%% md\n"
    }
   }
  },
  {
   "cell_type": "code",
   "execution_count": 37,
   "outputs": [
    {
     "name": "stdout",
     "output_type": "stream",
     "text": [
      "3\n"
     ]
    }
   ],
   "source": [
    "# let's see now these objects whose operation are defined program know how to deal with them.\n",
    "x = 1\n",
    "y = 2\n",
    "print(x + y)"
   ],
   "metadata": {
    "collapsed": false,
    "pycharm": {
     "name": "#%%\n"
    }
   }
  },
  {
   "cell_type": "code",
   "execution_count": 38,
   "outputs": [
    {
     "data": {
      "text/plain": "'HELLO'"
     },
     "execution_count": 38,
     "metadata": {},
     "output_type": "execute_result"
    }
   ],
   "source": [
    "# so now let's see another example\n",
    "string = \"hello\"\n",
    "string.upper()\n",
    "# you can see it will work fine on string"
   ],
   "metadata": {
    "collapsed": false,
    "pycharm": {
     "name": "#%%\n"
    }
   }
  },
  {
   "cell_type": "code",
   "execution_count": 39,
   "outputs": [
    {
     "ename": "AttributeError",
     "evalue": "'int' object has no attribute 'upper'",
     "output_type": "error",
     "traceback": [
      "\u001B[1;31m---------------------------------------------------------------------------\u001B[0m",
      "\u001B[1;31mAttributeError\u001B[0m                            Traceback (most recent call last)",
      "Input \u001B[1;32mIn [39]\u001B[0m, in \u001B[0;36m<cell line: 3>\u001B[1;34m()\u001B[0m\n\u001B[0;32m      1\u001B[0m \u001B[38;5;66;03m# However this same thing when we apply with integers\u001B[39;00m\n\u001B[0;32m      2\u001B[0m x \u001B[38;5;241m=\u001B[39m \u001B[38;5;241m4\u001B[39m\n\u001B[1;32m----> 3\u001B[0m \u001B[43mx\u001B[49m\u001B[38;5;241;43m.\u001B[39;49m\u001B[43mupper\u001B[49m()\n",
      "\u001B[1;31mAttributeError\u001B[0m: 'int' object has no attribute 'upper'"
     ]
    }
   ],
   "source": [
    "# However this same thing when we apply with integers\n",
    "x = 4\n",
    "x.upper()"
   ],
   "metadata": {
    "collapsed": false,
    "pycharm": {
     "name": "#%%\n"
    }
   }
  },
  {
   "cell_type": "markdown",
   "source": [
    "- So these methods these operation how we work with them based on their class they belongs. Hope this make sense."
   ],
   "metadata": {
    "collapsed": false,
    "pycharm": {
     "name": "#%% md\n"
    }
   }
  },
  {
   "cell_type": "markdown",
   "source": [
    "### class"
   ],
   "metadata": {
    "collapsed": false,
    "pycharm": {
     "name": "#%% md\n"
    }
   }
  },
  {
   "cell_type": "code",
   "execution_count": 40,
   "outputs": [
    {
     "name": "stdout",
     "output_type": "stream",
     "text": [
      "<class '__main__.Dog'>\n"
     ]
    }
   ],
   "source": [
    "# let's create a class\n",
    "# You can Write a class defination in camelCase that is naming conviction\n",
    "class Dog:\n",
    "    def bark(self):\n",
    "        print(\"bark\")\n",
    "\n",
    "d = Dog()\n",
    "# I have created a variable and assign it instance of class Dog:\n",
    "\n",
    "# now let's see this d variable type\n",
    "print(type(d))\n",
    "# you can see is it belong to class '__main__.Dog'\n",
    "# This __ __ defined what module this class is defined.\n",
    "# By default we have module main you can see the output"
   ],
   "metadata": {
    "collapsed": false,
    "pycharm": {
     "name": "#%%\n"
    }
   }
  },
  {
   "cell_type": "code",
   "execution_count": 41,
   "outputs": [
    {
     "name": "stdout",
     "output_type": "stream",
     "text": [
      "meow\n"
     ]
    }
   ],
   "source": [
    "# let's see now an example\n",
    "class Dog:\n",
    "    def cat(self):\n",
    "        print(\"meow\")\n",
    "# Instantiating the object in variable cat1 from class Dod\n",
    "cat1 = Dog()\n",
    "# priting inside the method that is cat\n",
    "cat1.cat()"
   ],
   "metadata": {
    "collapsed": false,
    "pycharm": {
     "name": "#%%\n"
    }
   }
  },
  {
   "cell_type": "code",
   "execution_count": 42,
   "outputs": [
    {
     "data": {
      "text/plain": "10"
     },
     "execution_count": 42,
     "metadata": {},
     "output_type": "execute_result"
    }
   ],
   "source": [
    "# let's create some more methods\n",
    "class Calculation:\n",
    "    def addition(self, a):\n",
    "        return a + 5\n",
    "\n",
    "add_with_5 = Calculation()\n",
    "# now any value that we will pass will be added by five\n",
    "add_with_5.addition(5)"
   ],
   "metadata": {
    "collapsed": false,
    "pycharm": {
     "name": "#%%\n"
    }
   }
  },
  {
   "cell_type": "markdown",
   "source": [
    "### now let's talk about the '__init__' method\n",
    "#### Python equivalent of the C++ constructor in an object-oriented approach. The __init__ function is called every time an object is created from a class. The __init__ method lets the class initialize the object's attributes and serves no other purpose."
   ],
   "metadata": {
    "collapsed": false,
    "pycharm": {
     "name": "#%% md\n"
    }
   }
  },
  {
   "cell_type": "code",
   "execution_count": 44,
   "outputs": [],
   "source": [
    "# Let's see the example\n",
    "class Dog:\n",
    "    # __init__ will allow us to instantiate the object right when it is created.\n",
    "    def __init__(self):\n",
    "        pass"
   ],
   "metadata": {
    "collapsed": false,
    "pycharm": {
     "name": "#%%\n"
    }
   }
  },
  {
   "cell_type": "code",
   "execution_count": 45,
   "outputs": [
    {
     "name": "stdout",
     "output_type": "stream",
     "text": [
      "<__main__.Dog object at 0x00000263FE2C6830>\n"
     ]
    }
   ],
   "source": [
    "# let's see the example\n",
    "class Dog:\n",
    "    def __init__(self): # Method where we pass the object\n",
    "        pass\n",
    "    def bark(self):\n",
    "        print(\"bow__!\")\n",
    "\n",
    "# so whenever we create this line dog1 = Dog(), the __init__() method will be called\n",
    "dog1 = Dog()\n",
    "print(dog1)"
   ],
   "metadata": {
    "collapsed": false,
    "pycharm": {
     "name": "#%%\n"
    }
   }
  },
  {
   "cell_type": "code",
   "execution_count": 46,
   "outputs": [],
   "source": [
    "# let's learn from above code\n",
    "class Dog:\n",
    "\n",
    "    # let's add one class attribute, which is the attribute the class  dog which is name.\n",
    "    def __init__(self, name):\n",
    "        self.name = name # this means  for creating object instancec in this case that is dog must have name\n",
    "        pass\n",
    "    def bark(self):\n",
    "        print(\"bark\")\n",
    "    def add_one(self):\n",
    "        return x + 1\n",
    "# let's create object variable that is d\n",
    "d = Dog(\"Brown\") # so we are passing here name that is brown to store this in dog object\n",
    "# every time when we create an object self will be presented as an object itself"
   ],
   "metadata": {
    "collapsed": false,
    "pycharm": {
     "name": "#%%\n"
    }
   }
  },
  {
   "cell_type": "markdown",
   "source": [
    "##### In above code d = Dog(\"Brown\")\n",
    "- here d is object name / instantiation of the object with name d\n",
    "- where Dog is reference that is to be called for create an object from.\n",
    "- and (\"brown\") is the class attribute which means that must have name when creating new object of the dog."
   ],
   "metadata": {
    "collapsed": false,
    "pycharm": {
     "name": "#%% md\n"
    }
   }
  },
  {
   "cell_type": "code",
   "execution_count": 47,
   "outputs": [
    {
     "name": "stdout",
     "output_type": "stream",
     "text": [
      "Curli-Flowerr\n"
     ]
    }
   ],
   "source": [
    "# going further now let's see\n",
    "class Vegitable:\n",
    "    def __init__(self, name):\n",
    "        self.name = name\n",
    "        # here we have printed inside the method\n",
    "        print(name)\n",
    "\n",
    "d_variable = Vegitable(\"Curli-Flowerr\")"
   ],
   "metadata": {
    "collapsed": false,
    "pycharm": {
     "name": "#%%\n"
    }
   }
  },
  {
   "cell_type": "code",
   "execution_count": 48,
   "outputs": [
    {
     "name": "stdout",
     "output_type": "stream",
     "text": [
      "Corrinder\n"
     ]
    },
    {
     "data": {
      "text/plain": "'Corrinder'"
     },
     "execution_count": 48,
     "metadata": {},
     "output_type": "execute_result"
    }
   ],
   "source": [
    "# Here we can also do is: not printed inside the method but in last can do that as well\n",
    "class Vegitables:\n",
    "    def __init__(self, name):\n",
    "        self.name = name\n",
    "\n",
    "v = Vegitable(\"Corrinder\")\n",
    "v.name"
   ],
   "metadata": {
    "collapsed": false,
    "pycharm": {
     "name": "#%%\n"
    }
   }
  },
  {
   "cell_type": "code",
   "execution_count": 49,
   "outputs": [
    {
     "name": "stdout",
     "output_type": "stream",
     "text": [
      "bow...! Bow...!\n",
      "meow...! meow...!\n",
      "bow...! Bow...!\n",
      "meow...! meow...!\n"
     ]
    }
   ],
   "source": [
    "# now let's create two objects\n",
    "class Animal:\n",
    "    def __init__(self, name):\n",
    "        self.name = name\n",
    "\n",
    "    def bark(self):\n",
    "        print(\"bow...! Bow...!\")\n",
    "\n",
    "    def meao(self):\n",
    "        print(\"meow...! meow...!\")\n",
    "\n",
    "d1 = Animal(\"Black Cat\")\n",
    "d2 = Animal(\"White Dog\")\n",
    "\n",
    "# we can also call the methods here we do so\n",
    "d1.bark()\n",
    "d1.meao()\n",
    "\n",
    "d2.bark()\n",
    "d2.meao()"
   ],
   "metadata": {
    "collapsed": false,
    "pycharm": {
     "name": "#%%\n"
    }
   }
  },
  {
   "cell_type": "code",
   "execution_count": 50,
   "outputs": [
    {
     "name": "stdout",
     "output_type": "stream",
     "text": [
      "Black Cat\n",
      "White Dog\n",
      "bow...! Bow...!\n",
      "meow...! meow...!\n",
      "bow...! Bow...!\n",
      "meow...! meow...!\n"
     ]
    }
   ],
   "source": [
    "# Let's repeat the above the example and do again just name printing inside the class\n",
    "class Animal:\n",
    "    def __init__(self, name):\n",
    "        self.name = name\n",
    "        print(name)\n",
    "    def bark(self):\n",
    "        print(\"bow...! Bow...!\")\n",
    "\n",
    "    def meao(self):\n",
    "        print(\"meow...! meow...!\")\n",
    "\n",
    "d1 = Animal(\"Black Cat\") # this will be printed now because we defined what is inside name\n",
    "d2 = Animal(\"White Dog\") # this will be printed as well\n",
    "\n",
    "# we can also call the methods here we do so\n",
    "d1.bark()\n",
    "d1.meao()\n",
    "\n",
    "d2.bark()\n",
    "d2.meao()"
   ],
   "metadata": {
    "collapsed": false,
    "pycharm": {
     "name": "#%%\n"
    }
   }
  },
  {
   "cell_type": "code",
   "execution_count": 51,
   "outputs": [
    {
     "name": "stdout",
     "output_type": "stream",
     "text": [
      "Black Cat White Dog\n"
     ]
    }
   ],
   "source": [
    "# let's print name outside the class that we have instantiated\n",
    "class Animal:\n",
    "    def __init__(self, name):\n",
    "        self.name = name\n",
    "\n",
    "    def bark(self):\n",
    "        print(\"bow...! Bow...!\")\n",
    "\n",
    "    def meao(self):\n",
    "        print(\"meow...! meow...!\")\n",
    "\n",
    "d1 = Animal(\"Black Cat\") # this will be printed now because we defined what is inside name\n",
    "d2 = Animal(\"White Dog\") # this will be printed as well\n",
    "\n",
    "# here we go remaining code  is the same\n",
    "print(d1.name, d2.name)"
   ],
   "metadata": {
    "collapsed": false,
    "pycharm": {
     "name": "#%%\n"
    }
   }
  },
  {
   "cell_type": "code",
   "execution_count": 52,
   "outputs": [
    {
     "data": {
      "text/plain": "('Black Cat', 'White Dog')"
     },
     "execution_count": 52,
     "metadata": {},
     "output_type": "execute_result"
    }
   ],
   "source": [
    "# because we are using jupyter notebook let's do it otherwise print\n",
    "# let's print name outside the class that we have instantiated\n",
    "class Animal:\n",
    "    def __init__(self, name):\n",
    "        self.name = name\n",
    "\n",
    "    def bark(self):\n",
    "        print(\"bow...! Bow...!\")\n",
    "\n",
    "    def meao(self):\n",
    "        print(\"meow...! meow...!\")\n",
    "\n",
    "d1 = Animal(\"Black Cat\") # this will be printed now because we defined what is inside name\n",
    "d2 = Animal(\"White Dog\") # this will be printed as well\n",
    "\n",
    "# here we go remaining code  is the same\n",
    "d1.name, d2.name"
   ],
   "metadata": {
    "collapsed": false,
    "pycharm": {
     "name": "#%%\n"
    }
   }
  },
  {
   "cell_type": "markdown",
   "source": [
    "- So while creating class attributes means that it store permanent with each object. All they must have the name attribute that we have defined in the class\n",
    "- so here that attribute of the calss that is self.name = name we can reference  them later on, and we can reference them from the method of our class.\n",
    "\n",
    "###### now let's see how can we reference them from method of the class"
   ],
   "metadata": {
    "collapsed": false,
    "pycharm": {
     "name": "#%% md\n"
    }
   }
  },
  {
   "cell_type": "code",
   "execution_count": 53,
   "outputs": [
    {
     "data": {
      "text/plain": "'Purple dog'"
     },
     "execution_count": 53,
     "metadata": {},
     "output_type": "execute_result"
    }
   ],
   "source": [
    "# Repeating the same class\n",
    "class Dog:\n",
    "    def __init__(self, name):\n",
    "        self.name = name\n",
    "\n",
    "    def get_name(self): # so self will be here that will be have a reference that let us know which object we are accessing.\n",
    "        return self.name\n",
    "# let's instantiate our object  with object name\n",
    "\n",
    "dg = Dog(\"Purple dog\")\n",
    "# now let's call our method from the object\n",
    "dg.get_name()"
   ],
   "metadata": {
    "collapsed": false,
    "pycharm": {
     "name": "#%%\n"
    }
   }
  },
  {
   "cell_type": "code",
   "execution_count": 54,
   "outputs": [
    {
     "data": {
      "text/plain": "(('CurliFlower', '1-KG'), 'CurliFlower', '1-KG')"
     },
     "execution_count": 54,
     "metadata": {},
     "output_type": "execute_result"
    }
   ],
   "source": [
    "# let's see another example that is:\n",
    "class Vegi:\n",
    "    def __init__(self, name, weight):\n",
    "        self.name = name\n",
    "        self.weight = weight\n",
    "\n",
    "    def get_method(self):\n",
    "        return self.name, self.weight\n",
    "\n",
    "v1 = Vegi(\"CurliFlower\", \"1-KG\")\n",
    "# we have printed some extra possibilities here through the method\n",
    "v1.get_method(), v1.name, v1.weight"
   ],
   "metadata": {
    "collapsed": false,
    "pycharm": {
     "name": "#%%\n"
    }
   }
  },
  {
   "cell_type": "markdown",
   "source": [
    "- so you can see using self we can reference work with those object that we have created and it tracks' those changed with specified object."
   ],
   "metadata": {
    "collapsed": false,
    "pycharm": {
     "name": "#%% md\n"
    }
   }
  },
  {
   "cell_type": "markdown",
   "source": [
    "###### let's Create another method that will change our attributes"
   ],
   "metadata": {
    "collapsed": false,
    "pycharm": {
     "name": "#%% md\n"
    }
   }
  },
  {
   "cell_type": "code",
   "execution_count": 57,
   "outputs": [
    {
     "name": "stdout",
     "output_type": "stream",
     "text": [
      "1 3\n"
     ]
    }
   ],
   "source": [
    "# let's see another example that is:\n",
    "class Vegit:\n",
    "    def __init__(self, name, weight):\n",
    "        self.name = name\n",
    "        self.weight = weight\n",
    "\n",
    "    def get_name(self):\n",
    "        return self.name\n",
    "\n",
    "    def get_weight(self):\n",
    "        return self.weight\n",
    "\n",
    "    # this will modify the attribute and create new attribute\n",
    "    def set_new_weight(self, weight):\n",
    "        self.weight = weight\n",
    "        return weight\n",
    "\n",
    "vg2 = Vegit(\"CurliFlower\", 1)\n",
    "# let's call this method set_new_weight\n",
    "# let's print the both at the same time\n",
    "print(vg2.get_weight(), vg2.set_new_weight(3))"
   ],
   "metadata": {
    "collapsed": false,
    "pycharm": {
     "name": "#%%\n"
    }
   }
  },
  {
   "cell_type": "markdown",
   "source": [
    "- so you see we have modified attribute that was already in the object and modified using new method"
   ],
   "metadata": {
    "collapsed": false,
    "pycharm": {
     "name": "#%% md\n"
    }
   }
  },
  {
   "cell_type": "markdown",
   "source": [
    "#### so why should we do this? can't we do it in other ways?\n",
    "##### Boom....!\n",
    "##### Yes, you can.\n",
    "- But then we will create them like a basic programmer and when we need to change them we will change one by one. How you will do that if you will have 25000 object say suppose."
   ],
   "metadata": {
    "collapsed": false,
    "pycharm": {
     "name": "#%% md\n"
    }
   }
  },
  {
   "cell_type": "code",
   "execution_count": 58,
   "outputs": [],
   "source": [
    "dogs_name = [\"A\",\"B\",\"C\"] # and so many\n",
    "dogs_age = [\"2\",\"3\",\"5\"] # and so many"
   ],
   "metadata": {
    "collapsed": false,
    "pycharm": {
     "name": "#%%\n"
    }
   }
  },
  {
   "cell_type": "markdown",
   "source": [
    "- So now say I want to make changes I will go over the list\n",
    "- Use index to track them, make sure index of age and name remain parallel, so time consuming. or if delete them."
   ],
   "metadata": {
    "collapsed": false,
    "pycharm": {
     "name": "#%% md\n"
    }
   }
  },
  {
   "cell_type": "markdown",
   "source": [
    "- Doing OOP this we can create infinite number of objects without creating manually those so many objects and modify and delete them without any pain\n"
   ],
   "metadata": {
    "collapsed": false,
    "pycharm": {
     "name": "#%% md\n"
    }
   }
  },
  {
   "cell_type": "markdown",
   "source": [],
   "metadata": {
    "collapsed": false,
    "pycharm": {
     "name": "#%% md\n"
    }
   }
  }
 ],
 "metadata": {
  "kernelspec": {
   "display_name": "Python 3",
   "language": "python",
   "name": "python3"
  },
  "language_info": {
   "codemirror_mode": {
    "name": "ipython",
    "version": 2
   },
   "file_extension": ".py",
   "mimetype": "text/x-python",
   "name": "python",
   "nbconvert_exporter": "python",
   "pygments_lexer": "ipython2",
   "version": "2.7.6"
  }
 },
 "nbformat": 4,
 "nbformat_minor": 0
}