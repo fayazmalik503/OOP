{
 "cells": [
  {
   "cell_type": "markdown",
   "source": [
    "### let's see how we can call parent class in subclass"
   ],
   "metadata": {
    "collapsed": false,
    "pycharm": {
     "name": "#%% md\n"
    }
   }
  },
  {
   "cell_type": "code",
   "execution_count": 69,
   "metadata": {
    "collapsed": true,
    "pycharm": {
     "name": "#%%\n"
    }
   },
   "outputs": [],
   "source": [
    "class Pet:\n",
    "    def __init__(self, name, age):\n",
    "        self.name = name\n",
    "        self.age = age\n",
    "    def show(self):\n",
    "        print(f'I am {self.name} and I am {self.age} years old')\n",
    "    def speak(self):\n",
    "        print(\"I dont know what to speak\")\n",
    "\n",
    "class Cat(Pet):\n",
    "    def __init__(self, name, age, color):\n",
    "\n",
    "        # Here super() reference the super class from where we have inherited __init__ defined the methods we want to call and (name, age) arguments  that we need\n",
    "        super().__init__(name, age)\n",
    "        self.color = color\n",
    "\n",
    "        # So now for cat method three attributes here we change the show method with three now\n",
    "        print(f'I am {self.name} and I am {self.age} years old and I am {self.color}')\n",
    "\n",
    "\n",
    "    def speak(self):\n",
    "        print('Meaw..!')\n",
    "\n",
    "class Dog(Pet):\n",
    "    def speak(self):\n",
    "        print('Bark')\n"
   ]
  },
  {
   "cell_type": "code",
   "execution_count": 70,
   "outputs": [
    {
     "name": "stdout",
     "output_type": "stream",
     "text": [
      "I am Mimi and I am 12 years old and I am Green\n"
     ]
    }
   ],
   "source": [
    "# now let's create the object and store  in variable for Cat:\n",
    "c = Cat('Mimi', 12, \"Green\")"
   ],
   "metadata": {
    "collapsed": false,
    "pycharm": {
     "name": "#%%\n"
    }
   }
  },
  {
   "cell_type": "markdown",
   "source": [
    "### Summary\n",
    "- So, here we learn that classes has done similar things, mostly they are identical excepts few attributed or methods.\n",
    "- So, it is good if create a general class a Parent class that defined the functionality that will  be used in your child classes.\n",
    "#### A good example is person hierarchy, an organization in which, there are managers and employees. Now managers will have different access than employees, however they have same managers and employees have same properties, they have id, they have name, their birth-date and many more. So, in next we will do  this project in which we I will implement this"
   ],
   "metadata": {
    "collapsed": false,
    "pycharm": {
     "name": "#%% md\n"
    }
   }
  },
  {
   "cell_type": "markdown",
   "source": [
    "### let's see another example"
   ],
   "metadata": {
    "collapsed": false,
    "pycharm": {
     "name": "#%% md\n"
    }
   }
  },
  {
   "cell_type": "code",
   "execution_count": 71,
   "outputs": [
    {
     "name": "stdout",
     "output_type": "stream",
     "text": [
      "This is Tomatoes, weight is 1kg and price is 70 and purchased from Karachi\n"
     ]
    }
   ],
   "source": [
    "class Vegitables:\n",
    "    def __init__(self, name, price, weight):\n",
    "        self.name = name\n",
    "        self.price = price\n",
    "        self.weight = weight\n",
    "\n",
    "    def show(self):\n",
    "        print(f'This is {self.name}, weight is {self.weight} and price is {self.price}')\n",
    "\n",
    "class Location(Vegitables):\n",
    "    def __init__(self, name, price, weight, location):\n",
    "        super().__init__(name, price, weight)\n",
    "        self.location = location\n",
    "\n",
    "    def show(self):\n",
    "        print(f'This is {self.name}, weight is {self.weight} and price is {self.price} and purchased from {self.location}')\n",
    "\n",
    "\n",
    "# try method overriding below check it.\n",
    "class Area(Vegitables):\n",
    "    pass\n",
    "\n",
    "L = Location(\"Tomatoes\", 70, \"1kg\", \"Karachi\")\n",
    "\n",
    "L.show()"
   ],
   "metadata": {
    "collapsed": false,
    "pycharm": {
     "name": "#%%\n"
    }
   }
  },
  {
   "cell_type": "markdown",
   "source": [
    "#### Summary\n",
    "##### what I have done in above code is change the method and add new attribute in child class and then used the parent class attributes with child class as super().__init__(self, and Arguments taken from super class, and this class attribute). Then just added self.ThisClassAttribute and then I changed the method and added one more attribute with the print command self.NewAttribute. That is what this I meant to learn inheritance usage."
   ],
   "metadata": {
    "collapsed": false,
    "pycharm": {
     "name": "#%% md\n"
    }
   }
  },
  {
   "cell_type": "markdown",
   "source": [
    "##### we get the method output of show from child. That is because child method has over-ride the parent method."
   ],
   "metadata": {
    "collapsed": false,
    "pycharm": {
     "name": "#%% md\n"
    }
   }
  },
  {
   "cell_type": "code",
   "execution_count": 72,
   "outputs": [
    {
     "name": "stdout",
     "output_type": "stream",
     "text": [
      "This is Tomatoes, weight is 1kg and price is 70 and purchased from Karachi\n"
     ]
    }
   ],
   "source": [
    "# let's hava look upon\n",
    "L.show()"
   ],
   "metadata": {
    "collapsed": false,
    "pycharm": {
     "name": "#%%\n"
    }
   }
  },
  {
   "cell_type": "markdown",
   "source": [
    "#### Now let's see the below line. When their is no method it takes  method from parent otherwise it's on method"
   ],
   "metadata": {
    "collapsed": false,
    "pycharm": {
     "name": "#%% md\n"
    }
   }
  },
  {
   "cell_type": "code",
   "execution_count": 73,
   "outputs": [
    {
     "name": "stdout",
     "output_type": "stream",
     "text": [
      "This is Garlic, weight is 0.5kg and price is 200\n"
     ]
    }
   ],
   "source": [
    "area = Area(\"Garlic\", 200, '0.5kg')\n",
    "area.show()"
   ],
   "metadata": {
    "collapsed": false,
    "pycharm": {
     "name": "#%%\n"
    }
   }
  },
  {
   "cell_type": "markdown",
   "source": [],
   "metadata": {
    "collapsed": false,
    "pycharm": {
     "name": "#%% md\n"
    }
   }
  }
 ],
 "metadata": {
  "kernelspec": {
   "display_name": "Python 3",
   "language": "python",
   "name": "python3"
  },
  "language_info": {
   "codemirror_mode": {
    "name": "ipython",
    "version": 2
   },
   "file_extension": ".py",
   "mimetype": "text/x-python",
   "name": "python",
   "nbconvert_exporter": "python",
   "pygments_lexer": "ipython2",
   "version": "2.7.6"
  }
 },
 "nbformat": 4,
 "nbformat_minor": 0
}