{
 "cells": [
  {
   "cell_type": "markdown",
   "source": [
    "### let's see how we can call parent class in subclass"
   ],
   "metadata": {
    "collapsed": false,
    "pycharm": {
     "name": "#%% md\n"
    }
   }
  },
  {
   "cell_type": "code",
   "execution_count": 6,
   "metadata": {
    "collapsed": true,
    "pycharm": {
     "name": "#%%\n"
    }
   },
   "outputs": [],
   "source": [
    "class Pet:\n",
    "    def __init__(self, name, age):\n",
    "        self.name = name\n",
    "        self.age = age\n",
    "    def show(self):\n",
    "        print(f'I am {self.name} and I am {self.age} years old')\n",
    "    def speak(self):\n",
    "        print(\"I dont know what to speak\")\n",
    "\n",
    "class Cat(Pet):\n",
    "    def __init__(self, name, age, color):\n",
    "\n",
    "        # Here super() reference the super class from where we have inherited __init__ defined the methods we want to call and (name, age) arguments  that we need\n",
    "        super().__init__(name, age)\n",
    "        self.color = color\n",
    "\n",
    "        # So now for cat method three attributes here we change the show method with three now\n",
    "        print(f'I am {self.name} and I am {self.age} years old and I am {self.color}')\n",
    "\n",
    "\n",
    "    def speak(self):\n",
    "        print('Meaw..!')\n",
    "\n",
    "class Dog(Pet):\n",
    "    def speak(self):\n",
    "        print('Bark')\n"
   ]
  },
  {
   "cell_type": "code",
   "execution_count": 7,
   "outputs": [
    {
     "name": "stdout",
     "output_type": "stream",
     "text": [
      "I am Mimi and I am 12 years old and I am Green\n"
     ]
    }
   ],
   "source": [
    "# now let's create the object and store  in variable for Cat:\n",
    "c = Cat('Mimi', 12, \"Green\")"
   ],
   "metadata": {
    "collapsed": false,
    "pycharm": {
     "name": "#%%\n"
    }
   }
  },
  {
   "cell_type": "markdown",
   "source": [
    "### Summary\n",
    "- So, here we learn that classes has done similar things, mostly they are identical excepts few attributed or methods.\n",
    "- So, it is good if create a general class a Parent class that defined the functionality that will  be used in your child classes.\n",
    "#### A good example is person hierarchy, an organization in which, there are managers and employees. Now managers will have different access than employees, however they have same managers and employees have same properties, they have id, they have name, their birth-date and many more. So, in next we will do  this project in which we I will implement this"
   ],
   "metadata": {
    "collapsed": false,
    "pycharm": {
     "name": "#%% md\n"
    }
   }
  }
 ],
 "metadata": {
  "kernelspec": {
   "display_name": "Python 3",
   "language": "python",
   "name": "python3"
  },
  "language_info": {
   "codemirror_mode": {
    "name": "ipython",
    "version": 2
   },
   "file_extension": ".py",
   "mimetype": "text/x-python",
   "name": "python",
   "nbconvert_exporter": "python",
   "pygments_lexer": "ipython2",
   "version": "2.7.6"
  }
 },
 "nbformat": 4,
 "nbformat_minor": 0
}