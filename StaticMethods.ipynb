{
 "cells": [
  {
   "cell_type": "code",
   "execution_count": 1,
   "outputs": [
    {
     "data": {
      "text/plain": "'Static Methods'"
     },
     "execution_count": 1,
     "metadata": {},
     "output_type": "execute_result"
    }
   ],
   "source": [
    "'''Static Methods'''"
   ],
   "metadata": {
    "collapsed": false,
    "pycharm": {
     "name": "#%%\n"
    }
   }
  },
  {
   "cell_type": "code",
   "execution_count": 3,
   "metadata": {
    "collapsed": true,
    "pycharm": {
     "name": "#%%\n"
    }
   },
   "outputs": [
    {
     "name": "stdout",
     "output_type": "stream",
     "text": [
      "10\n"
     ]
    }
   ],
   "source": [
    "class Math:\n",
    "\n",
    "    @staticmethod\n",
    "    # They don't change anything, because they don't have access anything\n",
    "    # I can call them at anypoint\n",
    "    def add5(x):\n",
    "        return x+5\n",
    "\n",
    "print(Math.add5(5))"
   ]
  },
  {
   "cell_type": "code",
   "execution_count": 10,
   "outputs": [
    {
     "name": "stdout",
     "output_type": "stream",
     "text": [
      "10\n",
      "15\n",
      "20\n",
      "run\n",
      "None\n"
     ]
    }
   ],
   "source": [
    "# Another Example\n",
    "class Math:\n",
    "    @staticmethod\n",
    "    def add5(x):\n",
    "        return x + 5\n",
    "\n",
    "    @staticmethod\n",
    "    def add10(x):\n",
    "        return x + 10\n",
    "\n",
    "    @staticmethod\n",
    "    def add15(x):\n",
    "        return x + 15\n",
    "\n",
    "    @staticmethod\n",
    "    def pr():\n",
    "        print(\"run\")\n",
    "\n",
    "print(Math.add5(5))\n",
    "print(Math.add10(5))\n",
    "print(Math.add15(5))\n",
    "print(Math.pr())"
   ],
   "metadata": {
    "collapsed": false,
    "pycharm": {
     "name": "#%%\n"
    }
   }
  }
 ],
 "metadata": {
  "kernelspec": {
   "display_name": "Python 3",
   "language": "python",
   "name": "python3"
  },
  "language_info": {
   "codemirror_mode": {
    "name": "ipython",
    "version": 2
   },
   "file_extension": ".py",
   "mimetype": "text/x-python",
   "name": "python",
   "nbconvert_exporter": "python",
   "pygments_lexer": "ipython2",
   "version": "2.7.6"
  }
 },
 "nbformat": 4,
 "nbformat_minor": 0
}