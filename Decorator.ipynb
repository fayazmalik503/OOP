{
 "cells": [
  {
   "cell_type": "code",
   "execution_count": 17,
   "outputs": [
    {
     "name": "stdout",
     "output_type": "stream",
     "text": [
      "2\n"
     ]
    }
   ],
   "source": [
    "class Person:\n",
    "    #Class attributes\n",
    "    number_of_people  = 0\n",
    "\n",
    "    def __init__(self, name):\n",
    "        self.name = name\n",
    "        Person.add_person()\n",
    "        # Person.number_of_people += 1\n",
    "\n",
    "    '''class methods are denoted by'''\n",
    "    @classmethod # this is not specific to the instance of what you want. It's not specific to any instance. You can do but it's not gonna be that much effective.\n",
    "    # what it meant to be called on it's class itself, so it can deal with the  return the number of peoples that is specific to number_of_people\n",
    "    def number_of_people_(cls): # write here cls that means they don't have any access to instance that why I write cls here, instead of self, because here is not object, what it's only doing is acting on this Person class.\n",
    "        return cls.number_of_people\n",
    "\n",
    "    @classmethod\n",
    "    def add_person(cls):\n",
    "        cls.number_of_people += 1\n",
    "\n",
    "p1 = Person(\"Ali\")\n",
    "p2 = Person(\"Ahsan\")\n",
    "\n",
    "print(Person.number_of_people_())"
   ],
   "metadata": {
    "collapsed": false,
    "pycharm": {
     "name": "#%%\n"
    }
   }
  }
 ],
 "metadata": {
  "kernelspec": {
   "display_name": "Python 3",
   "language": "python",
   "name": "python3"
  },
  "language_info": {
   "codemirror_mode": {
    "name": "ipython",
    "version": 2
   },
   "file_extension": ".py",
   "mimetype": "text/x-python",
   "name": "python",
   "nbconvert_exporter": "python",
   "pygments_lexer": "ipython2",
   "version": "2.7.6"
  }
 },
 "nbformat": 4,
 "nbformat_minor": 0
}