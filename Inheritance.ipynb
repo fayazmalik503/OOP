{
 "cells": [
  {
   "cell_type": "code",
   "execution_count": 42,
   "metadata": {
    "collapsed": true,
    "pycharm": {
     "name": "#%%\n"
    }
   },
   "outputs": [
    {
     "name": "stdout",
     "output_type": "stream",
     "text": [
      "I am Jack and I am 19 years old\n"
     ]
    }
   ],
   "source": [
    "class Animal:\n",
    "    def __init__(self, name, age):\n",
    "        self.name = name\n",
    "        self.age =age\n",
    "\n",
    "    def show(self):\n",
    "        print(f'I am {self.name} and I am {self.age} years old')\n",
    "    # now let's create this method which is same in Dog and Cat\n",
    "    def speak(self):\n",
    "        print(\"I don't know what to say\")\n",
    "        # let's print this as well in the Object variable we created for that is pet\n",
    "\n",
    "class Cat(Animal):\n",
    "    def speak(self):\n",
    "        print('Meao')\n",
    "\n",
    "class Dog(Animal):\n",
    "    def speak(self):\n",
    "        print('Bark')\n",
    "\n",
    "class Fish(Animal):\n",
    "    pass\n",
    "\n",
    "pet = Animal(\"Jack\", 19)\n",
    "pet.show()"
   ]
  },
  {
   "cell_type": "code",
   "execution_count": 43,
   "outputs": [
    {
     "name": "stdout",
     "output_type": "stream",
     "text": [
      "I am Mimi and I am 12 years old\n"
     ]
    }
   ],
   "source": [
    "c = Cat('Mimi', 12)\n",
    "c.show()\n",
    "# this is not inside the cat class but it prints"
   ],
   "metadata": {
    "collapsed": false,
    "pycharm": {
     "name": "#%%\n"
    }
   }
  },
  {
   "cell_type": "code",
   "execution_count": 44,
   "outputs": [
    {
     "name": "stdout",
     "output_type": "stream",
     "text": [
      "I am Scooby and I am 14 years old\n"
     ]
    }
   ],
   "source": [
    "# the same thing we can do this with dog\n",
    "d = Dog('Scooby', 14)\n",
    "d.show()"
   ],
   "metadata": {
    "collapsed": false,
    "pycharm": {
     "name": "#%%\n"
    }
   }
  },
  {
   "cell_type": "markdown",
   "source": [
    "- You can see we have not write __init__(self) method inside but it is okay because we have write in parent class"
   ],
   "metadata": {
    "collapsed": false,
    "pycharm": {
     "name": "#%% md\n"
    }
   }
  },
  {
   "cell_type": "markdown",
   "source": [
    "##### let's now call the speak method"
   ],
   "metadata": {
    "collapsed": false,
    "pycharm": {
     "name": "#%% md\n"
    }
   }
  },
  {
   "cell_type": "code",
   "execution_count": 45,
   "outputs": [
    {
     "name": "stdout",
     "output_type": "stream",
     "text": [
      "Meao\n"
     ]
    }
   ],
   "source": [
    "c.speak()"
   ],
   "metadata": {
    "collapsed": false,
    "pycharm": {
     "name": "#%%\n"
    }
   }
  },
  {
   "cell_type": "code",
   "execution_count": 46,
   "outputs": [
    {
     "name": "stdout",
     "output_type": "stream",
     "text": [
      "Bark\n"
     ]
    }
   ],
   "source": [
    "d.speak()"
   ],
   "metadata": {
    "collapsed": false,
    "pycharm": {
     "name": "#%%\n"
    }
   }
  },
  {
   "cell_type": "code",
   "execution_count": 47,
   "outputs": [
    {
     "name": "stdout",
     "output_type": "stream",
     "text": [
      "I don't know what to say\n"
     ]
    }
   ],
   "source": [
    "# let's print show by pet\n",
    "pet.speak()"
   ],
   "metadata": {
    "collapsed": false,
    "pycharm": {
     "name": "#%%\n"
    }
   }
  },
  {
   "cell_type": "markdown",
   "source": [
    "##### let's now see this"
   ],
   "metadata": {
    "collapsed": false,
    "pycharm": {
     "name": "#%% md\n"
    }
   }
  },
  {
   "cell_type": "code",
   "execution_count": 48,
   "outputs": [
    {
     "name": "stdout",
     "output_type": "stream",
     "text": [
      "I don't know what to say\n"
     ]
    }
   ],
   "source": [
    "# let's try new class now as fish\n",
    "# in this we don't have write any speak() method\n",
    "\n",
    "f = Fish('Kur-ro', 8)\n",
    "f.speak() # this we have not defined you can see the result\n",
    "# speak here is defined in parent."
   ],
   "metadata": {
    "collapsed": false,
    "pycharm": {
     "name": "#%%\n"
    }
   }
  }
 ],
 "metadata": {
  "kernelspec": {
   "display_name": "Python 3",
   "language": "python",
   "name": "python3"
  },
  "language_info": {
   "codemirror_mode": {
    "name": "ipython",
    "version": 2
   },
   "file_extension": ".py",
   "mimetype": "text/x-python",
   "name": "python",
   "nbconvert_exporter": "python",
   "pygments_lexer": "ipython2",
   "version": "2.7.6"
  }
 },
 "nbformat": 4,
 "nbformat_minor": 0
}